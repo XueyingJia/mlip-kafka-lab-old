{
 "cells": [
  {
   "cell_type": "markdown",
   "id": "59b2d799",
   "metadata": {},
   "source": [
    "# Kafka Demo\n",
    "\n",
    "### Connect to Kafka Broker Server\n",
    "```\n",
    "ssh -o ServerAliveInterval=60 -L 9092:localhost:9092 tunnel@128.2.204.215 -NTf\n",
    "```\n",
    "password for tunnel@128.2.204.215: mlip-tunnel\n",
    "\n",
    "\n",
    "To kill connection at port:\n",
    "```\n",
    "lsof -ti:9092 | xargs kill -9\n",
    "```\n",
    "\n",
    "### Setup\n",
    "```\n",
    "python -m pip install kafka-python\n",
    "```"
   ]
  },
  {
   "cell_type": "markdown",
   "source": [
    "### Producer Mode -> Writes Data to Broker"
   ],
   "metadata": {
    "collapsed": false
   },
   "id": "0eb9dd6f"
  },
  {
   "cell_type": "code",
   "execution_count": 2,
   "outputs": [],
   "source": [
    "import os\n",
    "from datetime import datetime\n",
    "from json import dumps, loads\n",
    "from time import sleep\n",
    "from random import randint\n",
    "from kafka import KafkaConsumer, KafkaProducer\n",
    "\n",
    "# Update this for your own recitation section :)\n",
    "topic = 'recitation-c'"
   ],
   "metadata": {
    "collapsed": false,
    "ExecuteTime": {
     "end_time": "2024-09-03T13:14:04.466864Z",
     "start_time": "2024-09-03T13:14:04.315494Z"
    }
   },
   "id": "560fd2bb"
  },
  {
   "cell_type": "code",
   "execution_count": null,
   "id": "aa4679a1",
   "metadata": {},
   "outputs": [],
   "source": [
    "# Create a producer to write data to kafka\n",
    "# Ref: https://kafka-python.readthedocs.io/en/master/apidoc/KafkaProducer.html\n",
    "\n",
    "# [TODO]: Replace '...' with the address of your Kafka bootstrap server\n",
    "producer = KafkaProducer(bootstrap_servers=['localhost:9092'],\n",
    "                        value_serializer=lambda x: dumps(x).encode('utf-8'),\n",
    "                        )\n",
    "\n",
    "# [TODO]: Add cities of your choice\n",
    "cities = ['Atlanta', 'Seattle', 'Boston']\n",
    "\n",
    "# Write data via the producer\n",
    "print(\"Writing to Kafka Broker\")\n",
    "for i in range(10):\n",
    "    data = f'{datetime.now().strftime(\"%Y-%m-%d %H:%M:%S\")},{cities[randint(0,len(cities)-1)]},{randint(18, 32)}ºC'\n",
    "    print(f\"Writing: {data}\")\n",
    "    producer.send(topic=topic, value=data)\n",
    "    sleep(1)"
   ]
  },
  {
   "cell_type": "markdown",
   "source": [
    "### Consumer Mode -> Reads Data from Broker"
   ],
   "metadata": {
    "collapsed": false
   },
   "id": "1f439b087e518100"
  },
  {
   "cell_type": "code",
   "execution_count": null,
   "id": "a5e2f59f",
   "metadata": {},
   "outputs": [],
   "source": [
    "# Create a consumer to read data from kafka\n",
    "# Ref: https://kafka-python.readthedocs.io/en/master/apidoc/KafkaConsumer.html\n",
    "\n",
    "# [TODO]: Complete the missing ... parameters/arguments using the Kafka documentation\n",
    "consumer = KafkaConsumer(\n",
    "    'recitation-c',\n",
    "    bootstrap_servers=['localhost:9092'],\n",
    "    auto_offset_reset='latest', #Experiment with different values: earliest, latest, a specific number\n",
    "    # Commit that an offset has been read\n",
    "    enable_auto_commit=True,\n",
    "    # How often to tell Kafka, an offset has been read\n",
    "    auto_commit_interval_ms=1000\n",
    ")\n",
    "\n",
    "print('Reading Kafka Broker')\n",
    "for message in consumer:\n",
    "    message = message.value.decode()\n",
    "    # Default message.value type is bytes!\n",
    "    print(loads(message))\n",
    "    os.system(f\"echo {message} >> kafka_log.csv\")"
   ]
  },
  {
   "cell_type": "markdown",
   "id": "38927152",
   "metadata": {},
   "source": [
    "# Use kcat!\n",
    "It's a CLI (Command Line Interface). Previously known as kafkacat\n",
    "\n",
    "\n",
    "Ref: https://docs.confluent.io/platform/current/app-development/kafkacat-usage.html"
   ]
  },
  {
   "cell_type": "code",
   "execution_count": null,
   "id": "e19b63da",
   "metadata": {},
   "outputs": [],
   "source": [
    "# kcat command: connect to local Kafka broker, specify a topic, and consume messages from the earliest offset\n",
    "\n",
    "# answer: kcat -b localhost:9092 -t recitation-c -C -o earliest\n",
    "\n",
    "# Kafka Topic: A topic in Kafka is a way to categorize data. Producers publish messages to specific topics, and consumers subscribe to topics to receive messages. A topic is a logical concept.\n",
    "\n",
    "# Kafka Offset: The offset in Kafka is used to uniquely identify the sequence number of each message within a topic. Consumers can track the last offset they have read, allowing them to continue from where they left off in the event of a disconnection or failure, thus ensuring message continuity."
   ]
  }
 ],
 "metadata": {
  "kernelspec": {
   "display_name": "Python 3 (ipykernel)",
   "language": "python",
   "name": "python3"
  },
  "language_info": {
   "codemirror_mode": {
    "name": "ipython",
    "version": 3
   },
   "file_extension": ".py",
   "mimetype": "text/x-python",
   "name": "python",
   "nbconvert_exporter": "python",
   "pygments_lexer": "ipython3",
   "version": "3.9.7"
  }
 },
 "nbformat": 4,
 "nbformat_minor": 5
}
