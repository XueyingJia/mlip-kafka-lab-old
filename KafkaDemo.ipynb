{
 "cells": [
  {
   "cell_type": "markdown",
   "id": "59b2d799",
   "metadata": {},
   "source": [
    "# Kafka Demo\n",
    "\n",
    "### Connect to Kafka Broker Server\n",
    "```\n",
    "ssh -o ServerAliveInterval=60 -L 9092:localhost:9092 tunnel@128.2.204.215 -NTf\n",
    "```\n",
    "pass: seaitunnel\n",
    "\n",
    "\n",
    "To kill connection at port:\n",
    "```\n",
    "lsof -ti:9092 | xargs kill -9\n",
    "```\n",
    "\n",
    "### Setup\n",
    "```\n",
    "python -m pip install kafka-python\n",
    "```"
   ]
  },
  {
   "cell_type": "markdown",
   "source": [
    "### Producer Mode -> Writes Data to Broker"
   ],
   "metadata": {
    "collapsed": false
   },
   "id": "0eb9dd6f"
  },
  {
   "cell_type": "code",
   "execution_count": 2,
   "outputs": [],
   "source": [
    "from os import path\n",
    "import sys, os\n",
    "from datetime import datetime\n",
    "from json import dumps, loads\n",
    "from time import sleep\n",
    "from random import randint\n",
    "import numpy as np\n",
    "# ssh -o ServerAliveInterval=60 -L 9092:localhost:9092 tunnel@128.2.24.106 -NTf\n",
    "from kafka import KafkaConsumer, KafkaProducer\n",
    "\n",
    "# Update this for your own recitation section :)\n",
    "topic = 'recitation-c'"
   ],
   "metadata": {
    "collapsed": false,
    "ExecuteTime": {
     "end_time": "2024-01-25T15:32:58.393707Z",
     "start_time": "2024-01-25T15:32:56.795824Z"
    }
   },
   "id": "560fd2bb"
  },
  {
   "cell_type": "code",
   "execution_count": 3,
   "id": "aa4679a1",
   "metadata": {
    "ExecuteTime": {
     "end_time": "2024-01-25T15:33:14.458582Z",
     "start_time": "2024-01-25T15:33:04.181764Z"
    }
   },
   "outputs": [
    {
     "name": "stdout",
     "output_type": "stream",
     "text": [
      "Writing to Kafka Broker\n",
      "Writing: 2024-01-25 10:33:04,Seattle,32ºC\n",
      "Writing: 2024-01-25 10:33:05,Seattle,24ºC\n",
      "Writing: 2024-01-25 10:33:06,Seattle,20ºC\n",
      "Writing: 2024-01-25 10:33:07,Seattle,29ºC\n",
      "Writing: 2024-01-25 10:33:08,Boston,18ºC\n",
      "Writing: 2024-01-25 10:33:09,Seattle,18ºC\n",
      "Writing: 2024-01-25 10:33:10,Seattle,32ºC\n",
      "Writing: 2024-01-25 10:33:11,Boston,28ºC\n",
      "Writing: 2024-01-25 10:33:12,Boston,20ºC\n",
      "Writing: 2024-01-25 10:33:13,Seattle,28ºC\n"
     ]
    }
   ],
   "source": [
    "# Create a producer to write data to kafka\n",
    "# Ref: https://kafka-python.readthedocs.io/en/master/apidoc/KafkaProducer.html\n",
    "\n",
    "# [TODO]: Replace '...' with the address of your Kafka bootstrap server\n",
    "producer = KafkaProducer(bootstrap_servers=['localhost:9092'],\n",
    "                        value_serializer=lambda x: dumps(x).encode('utf-8'),\n",
    "                        )\n",
    "\n",
    "# [TODO]: Add cities of your choice\n",
    "cities = ['Atlanta', 'Seattle', 'Boston']\n",
    "\n",
    "# Write data via the producer\n",
    "print(\"Writing to Kafka Broker\")\n",
    "for i in range(10):\n",
    "    data = f'{datetime.now().strftime(\"%Y-%m-%d %H:%M:%S\")},{cities[randint(0,len(cities)-1)]},{randint(18, 32)}ºC'\n",
    "    print(f\"Writing: {data}\")\n",
    "    producer.send(topic=topic, value=data)\n",
    "    sleep(1)"
   ]
  },
  {
   "cell_type": "markdown",
   "source": [
    "### Consumer Mode -> Reads Data from Broker"
   ],
   "metadata": {
    "collapsed": false
   },
   "id": "1f439b087e518100"
  },
  {
   "cell_type": "code",
   "execution_count": null,
   "id": "a5e2f59f",
   "metadata": {
    "is_executing": true,
    "ExecuteTime": {
     "start_time": "2024-01-25T16:10:03.946681Z"
    }
   },
   "outputs": [
    {
     "name": "stdout",
     "output_type": "stream",
     "text": [
      "Reading Kafka Broker\n",
      "2024-01-24 21:54:22,New York City,29ºC\n",
      "2024-01-24 21:54:23,Washington D.C.,21ºC\n",
      "2024-01-24 21:54:24,Atlanta,25ºC\n",
      "2024-01-24 21:54:25,New York City,22ºC\n",
      "2024-01-24 21:54:26,Pittsburgh,31ºC\n",
      "2024-01-24 21:54:27,Pittsburgh,27ºC\n",
      "2024-01-24 21:54:28,Washington D.C.,31ºC\n",
      "2024-01-24 21:54:29,New York City,27ºC\n",
      "2024-01-24 21:54:30,Pittsburgh,25ºC\n",
      "2024-01-24 21:54:31,New York City,19ºC\n",
      "2024-01-25 10:33:04,Seattle,32ºC\n",
      "2024-01-25 10:33:05,Seattle,24ºC\n",
      "2024-01-25 10:33:06,Seattle,20ºC\n",
      "2024-01-25 10:33:07,Seattle,29ºC\n",
      "2024-01-25 10:33:08,Boston,18ºC\n",
      "2024-01-25 10:33:09,Seattle,18ºC\n",
      "2024-01-25 10:33:10,Seattle,32ºC\n",
      "2024-01-25 10:33:11,Boston,28ºC\n",
      "2024-01-25 10:33:12,Boston,20ºC\n",
      "2024-01-25 10:33:13,Seattle,28ºC\n"
     ]
    }
   ],
   "source": [
    "# Create a consumer to read data from kafka\n",
    "# Ref: https://kafka-python.readthedocs.io/en/master/apidoc/KafkaConsumer.html\n",
    "\n",
    "# [TODO]: Complete the missing ... parameters/arguments using the Kafka documentation\n",
    "consumer = KafkaConsumer(\n",
    "    'recitation-c',\n",
    "    bootstrap_servers=['localhost:9092'],\n",
    "    auto_offset_reset='earliest', #Experiment with different values: earliest, latest\n",
    "    # Commit that an offset has been read\n",
    "    enable_auto_commit=True,\n",
    "    # How often to tell Kafka, an offset has been read\n",
    "    auto_commit_interval_ms=1000\n",
    ")\n",
    "\n",
    "print('Reading Kafka Broker')\n",
    "for message in consumer:\n",
    "\n",
    "    message = message.value.decode()\n",
    "    # Default message.value type is bytes!\n",
    "    print(loads(message))\n",
    "    os.system(f\"echo {message} >> kafka_log.csv\")"
   ]
  },
  {
   "cell_type": "markdown",
   "id": "38927152",
   "metadata": {},
   "source": [
    "# Use kcat!\n",
    "It's a CLI (Command Line Interface). Previously known as kafkacat\n",
    "\n",
    "\n",
    "Ref: https://docs.confluent.io/platform/current/app-development/kafkacat-usage.html"
   ]
  },
  {
   "cell_type": "code",
   "execution_count": null,
   "id": "e19b63da",
   "metadata": {},
   "outputs": [],
   "source": [
    "#kcat command: connect to local Kafka broker, specify a topic, and consume messages from the earliest offset\n",
    "\n",
    "#kcat -b localhost:9092 -t recitation-c -C -o earliest\n",
    "\n",
    "# Kafka Topic: A topic in Kafka is a way to categorize data. Producers publish messages to specific topics, and consumers subscribe to topics to receive messages. A topic is a logical concept and can be distributed physically across multiple Kafka brokers and partitions.\n",
    "\n",
    "# Kafka Offset: The offset in Kafka is used to uniquely identify the sequence number of each message within a topic. Each message has a unique offset within its partition. Consumers can track the last offset they have read, allowing them to continue from where they left off in the event of a disconnection or failure, thus ensuring message continuity."
   ]
  }
 ],
 "metadata": {
  "kernelspec": {
   "display_name": "Python 3 (ipykernel)",
   "language": "python",
   "name": "python3"
  },
  "language_info": {
   "codemirror_mode": {
    "name": "ipython",
    "version": 3
   },
   "file_extension": ".py",
   "mimetype": "text/x-python",
   "name": "python",
   "nbconvert_exporter": "python",
   "pygments_lexer": "ipython3",
   "version": "3.9.7"
  }
 },
 "nbformat": 4,
 "nbformat_minor": 5
}
